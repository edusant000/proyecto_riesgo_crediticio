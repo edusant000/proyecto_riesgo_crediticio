{
 "cells": [
  {
   "cell_type": "code",
   "execution_count": 7,
   "id": "7345214b",
   "metadata": {},
   "outputs": [],
   "source": [
    "import pandas as pd\n",
    "from pathlib import Path"
   ]
  },
  {
   "cell_type": "code",
   "execution_count": 9,
   "id": "0d163997",
   "metadata": {},
   "outputs": [],
   "source": [
    "try:\n",
    "    project_root = Path.cwd().parent\n",
    "    clean_data_path = project_root / \"data\" / \"processed\" / \"credit_card_clients_clean.csv\"\n",
    "    df = pd.read_csv(clean_data_path)\n",
    "except FileNotFoundError:\n",
    "    print(f\"Error: No se encontró el archivo: {clean_data_path}\")"
   ]
  },
  {
   "cell_type": "code",
   "execution_count": 11,
   "id": "bd539627",
   "metadata": {},
   "outputs": [],
   "source": [
    "bill_amt_cols = ['bill_amt_sept', 'bill_amt_aug', 'bill_amt_july', 'bill_amt_june', 'bill_amt_may', 'bill_amt_april']\n",
    "pay_amt_cols = ['pay_amt_sept', 'pay_amt_aug', 'pay_amt_july', 'pay_amt_june', 'pay_amt_may', 'pay_amt_april']\n",
    "pay_status_cols = ['pay_sept', 'pay_aug', 'pay_july', 'pay_june', 'pay_may', 'pay_april']\n"
   ]
  },
  {
   "cell_type": "code",
   "execution_count": 12,
   "id": "28d2cde5",
   "metadata": {},
   "outputs": [],
   "source": [
    "df_features = df.copy()"
   ]
  },
  {
   "cell_type": "code",
   "execution_count": 13,
   "id": "49458490",
   "metadata": {},
   "outputs": [],
   "source": [
    "for i, month in enumerate(['sept', 'aug', 'july', 'june', 'may', 'april']):\n",
    "    # Evitar división por cero añadiendo un valor pequeño (epsilon)\n",
    "    epsilon = 1e-6\n",
    "    df_features[f'utilization_{month}'] = df_features[f'bill_amt_{month}'] / (df_features['limit_bal'] + epsilon)\n",
    "    df_features[f'payment_ratio_{month}'] = df_features[f'pay_amt_{month}'] / (df_features[f'bill_amt_{month}'] + epsilon)"
   ]
  },
  {
   "cell_type": "code",
   "execution_count": 14,
   "id": "6c0c6d76",
   "metadata": {},
   "outputs": [],
   "source": [
    "df_features['bill_amt_avg'] = df_features[bill_amt_cols].mean(axis=1)\n",
    "df_features['bill_amt_std'] = df_features[bill_amt_cols].std(axis=1)\n",
    "df_features['bill_amt_max'] = df_features[bill_amt_cols].max(axis=1)"
   ]
  },
  {
   "cell_type": "code",
   "execution_count": null,
   "id": "3efe1666",
   "metadata": {},
   "outputs": [],
   "source": [
    "def calculate_slope(row, cols):\n",
    "    x = np.array(range(len(cols)))\n",
    "    y = row[cols].values\n",
    "    slope, _ = np.polyfit(x, y, 1)\n",
    "    return slope\n"
   ]
  },
  {
   "cell_type": "code",
   "execution_count": 17,
   "id": "a2a3630c",
   "metadata": {},
   "outputs": [],
   "source": [
    "df_features['bill_amt_slope'] = df_features.apply(lambda row: calculate_slope(row, bill_amt_cols[::-1]), axis=1)\n",
    "df_features['pay_amt_slope'] = df_features.apply(lambda row: calculate_slope(row, pay_amt_cols[::-1]), axis=1)"
   ]
  },
  {
   "cell_type": "code",
   "execution_count": 18,
   "id": "38aa3a19",
   "metadata": {},
   "outputs": [],
   "source": [
    "df_features_reg = df.copy()"
   ]
  },
  {
   "cell_type": "code",
   "execution_count": 19,
   "id": "10f938f1",
   "metadata": {},
   "outputs": [],
   "source": [
    "bill_cols_reg = ['bill_amt_june', 'bill_amt_may', 'bill_amt_april']\n",
    "pay_cols_reg = ['pay_amt_may', 'pay_amt_april'] # Solo pagos anteriores\n",
    "pay_status_cols_reg = ['pay_june', 'pay_may', 'pay_april']"
   ]
  },
  {
   "cell_type": "code",
   "execution_count": 20,
   "id": "cf408e37",
   "metadata": {},
   "outputs": [],
   "source": [
    "for month in ['june', 'may', 'april']:\n",
    "    epsilon = 1e-6\n",
    "    df_features_reg[f'utilization_{month}'] = df_features_reg[f'bill_amt_{month}'] / (df_features_reg['limit_bal'] + epsilon)\n"
   ]
  },
  {
   "cell_type": "code",
   "execution_count": 21,
   "id": "fcd86b52",
   "metadata": {},
   "outputs": [],
   "source": [
    "df_features_reg['bill_amt_avg_3m'] = df_features_reg[bill_cols_reg].mean(axis=1)\n",
    "df_features_reg['pay_amt_avg_2m'] = df_features_reg[pay_cols_reg].mean(axis=1)\n",
    "df_features_reg['pay_status_avg_3m'] = df_features_reg[pay_status_cols_reg].mean(axis=1)\n"
   ]
  },
  {
   "cell_type": "code",
   "execution_count": 22,
   "id": "2f36b785",
   "metadata": {},
   "outputs": [],
   "source": [
    "df_features_reg['bill_amt_slope_3m'] = df_features_reg.apply(lambda row: calculate_slope(row, bill_cols_reg[::-1]), axis=1)\n"
   ]
  },
  {
   "cell_type": "code",
   "execution_count": 23,
   "id": "f69ed24d",
   "metadata": {},
   "outputs": [],
   "source": [
    "processed_data_path = project_root / \"data\" / \"processed\"\n",
    "processed_data_path.mkdir(parents=True, exist_ok=True)"
   ]
  },
  {
   "cell_type": "code",
   "execution_count": 24,
   "id": "500bd21f",
   "metadata": {},
   "outputs": [
    {
     "name": "stdout",
     "output_type": "stream",
     "text": [
      "DataFrame para clasificación guardado en: /Users/edusant/Desktop/personal/blue_tab/proyecto-riesgo-crediticio/data/processed/features_clasificacion.csv\n"
     ]
    }
   ],
   "source": [
    "path_clasificacion = processed_data_path / \"features_clasificacion.csv\"\n",
    "df_features.to_csv(path_clasificacion, index=False)\n",
    "print(f\"DataFrame para clasificación guardado en: {path_clasificacion}\")"
   ]
  },
  {
   "cell_type": "code",
   "execution_count": 25,
   "id": "99ab5618",
   "metadata": {},
   "outputs": [
    {
     "name": "stdout",
     "output_type": "stream",
     "text": [
      "DataFrame para regresión guardado en: /Users/edusant/Desktop/personal/blue_tab/proyecto-riesgo-crediticio/data/processed/features_regresion.csv\n"
     ]
    }
   ],
   "source": [
    "path_regresion = processed_data_path / \"features_regresion.csv\"\n",
    "df_features_reg.to_csv(path_regresion, index=False)\n",
    "print(f\"DataFrame para regresión guardado en: {path_regresion}\")\n"
   ]
  }
 ],
 "metadata": {
  "kernelspec": {
   "display_name": "riesgo_crediticio_env",
   "language": "python",
   "name": "python3"
  },
  "language_info": {
   "codemirror_mode": {
    "name": "ipython",
    "version": 3
   },
   "file_extension": ".py",
   "mimetype": "text/x-python",
   "name": "python",
   "nbconvert_exporter": "python",
   "pygments_lexer": "ipython3",
   "version": "3.10.18"
  }
 },
 "nbformat": 4,
 "nbformat_minor": 5
}
